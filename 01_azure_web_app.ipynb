{
 "cells": [
  {
   "cell_type": "markdown",
   "metadata": {},
   "source": [
    "[![cloudevel](imagenes/cloudevel-fondo-twitter.png)](https://cloudevel.com)"
   ]
  },
  {
   "cell_type": "markdown",
   "metadata": {},
   "source": [
    "## Instalación de la CLI de Azure."
   ]
  },
  {
   "cell_type": "code",
   "execution_count": null,
   "metadata": {},
   "outputs": [],
   "source": [
    "pip install azure-cli"
   ]
  },
  {
   "cell_type": "code",
   "execution_count": null,
   "metadata": {},
   "outputs": [],
   "source": [
    "az"
   ]
  },
  {
   "cell_type": "markdown",
   "metadata": {},
   "source": [
    "## Acceso a Azure mediante la CLI"
   ]
  },
  {
   "cell_type": "code",
   "execution_count": null,
   "metadata": {},
   "outputs": [],
   "source": [
    "az login"
   ]
  },
  {
   "cell_type": "markdown",
   "metadata": {},
   "source": [
    "## Creación de un usuario para desplegar la aplicación.\n",
    "\n",
    "En este caso se utilizarán:\n",
    "\n",
    "* El nombre de usuario ```prueba```.\n",
    "* La contraseña ```Pru3b4T3mp```."
   ]
  },
  {
   "cell_type": "code",
   "execution_count": null,
   "metadata": {
    "scrolled": true
   },
   "outputs": [],
   "source": [
    "az webapp deployment user set --user-name prueba --password Pru3b4T3mp"
   ]
  },
  {
   "cell_type": "markdown",
   "metadata": {},
   "source": [
    "## Consulta de locaciones geográficas dependiendo del plan."
   ]
  },
  {
   "cell_type": "markdown",
   "metadata": {},
   "source": [
    "### Precios de servicios.\n",
    "\n",
    "En caso de no contar con una cuenta gratuita es conveniente consultar los precios de servicios por locación geográfica.\n",
    "\n",
    "https://azure.microsoft.com/en-us/pricing/details/app-service"
   ]
  },
  {
   "cell_type": "markdown",
   "metadata": {},
   "source": [
    "## Selección de la locación."
   ]
  },
  {
   "cell_type": "markdown",
   "metadata": {},
   "source": [
    "### Para plan de pago."
   ]
  },
  {
   "cell_type": "code",
   "execution_count": null,
   "metadata": {},
   "outputs": [],
   "source": [
    "az appservice list-locations --sku=\"SHARED\""
   ]
  },
  {
   "cell_type": "markdown",
   "metadata": {},
   "source": [
    "### Para plan gratuito."
   ]
  },
  {
   "cell_type": "code",
   "execution_count": null,
   "metadata": {},
   "outputs": [],
   "source": [
    "az appservice list-locations --sku=\"FREE\""
   ]
  },
  {
   "cell_type": "markdown",
   "metadata": {},
   "source": [
    "## Creación del grupo de recursos.\n",
    "\n",
    "En este caso el grupo de recursos se localizará en ```\"Canada Central\"```."
   ]
  },
  {
   "cell_type": "code",
   "execution_count": null,
   "metadata": {},
   "outputs": [],
   "source": [
    "az group create --name misRecursos --location \"Canada Central\" "
   ]
  },
  {
   "cell_type": "markdown",
   "metadata": {},
   "source": [
    "## Selección del plan de servicios."
   ]
  },
  {
   "cell_type": "markdown",
   "metadata": {},
   "source": [
    "### Para plan de pago."
   ]
  },
  {
   "cell_type": "code",
   "execution_count": null,
   "metadata": {},
   "outputs": [],
   "source": [
    "az appservice plan create --name miPlan --resource-group misRecursos --sku SHARED"
   ]
  },
  {
   "cell_type": "markdown",
   "metadata": {},
   "source": [
    "### Para plan gratuito."
   ]
  },
  {
   "cell_type": "code",
   "execution_count": null,
   "metadata": {},
   "outputs": [],
   "source": [
    "az appservice plan create --name miPlan --resource-group misRecursos --sku FREE"
   ]
  },
  {
   "cell_type": "markdown",
   "metadata": {},
   "source": [
    "## Creación de la aplicación.\n",
    "\n",
    "La siguiente celda creará la aplicación en Azure, indicando que la aplicación correrá con Python 3.4 y se accederá a esta mediante git.\n",
    "\n",
    "Una vez ejecutada la siguente celda, Azure indicará la ruta mediante la cual se accederá utilizando git.\n",
    "\n",
    "En este caso se creará una aplicación web con el nombre ```apiflask```. \n",
    "\n",
    "**Nota:** Azure no permite usar nombre que ya estén siendo utlizados  para crear apliciaciones web, por lo que es necesario cambiar el nombre ```apiflask``` en la celda siguiente por cualquier otro.\n",
    "\n",
    "Una vez ejecutada la siguiente celda: \n",
    "\n",
    "* Se creará una aplicación en http://apliflask.azurewebsites.net ligado a la clave ```\"defaultHostName\"```.\n",
    "* Se creará el acceso al repositorio remoto de git en ```https://prueba-tmp@apliflask.scm.azurewebsites.net/apliflask.git``` ligado a la clave ```\"deploymentLocalGitUrl\"```. Cabe recordar que el usuario ```prueba-tmp``` fue definido en una celda previa de esta notebook.\n",
    "\n",
    "\n",
    "\n"
   ]
  },
  {
   "cell_type": "code",
   "execution_count": null,
   "metadata": {},
   "outputs": [],
   "source": [
    "az webapp create --resource-group misRecursos --plan miPlan --name apliflask --runtime \"python|3.4\" --deployment-local-git"
   ]
  },
  {
   "cell_type": "markdown",
   "metadata": {},
   "source": [
    "## Configuración de Git."
   ]
  },
  {
   "cell_type": "markdown",
   "metadata": {},
   "source": [
    "La siguiente celda se utiliza para indicar los datos básicos del usuario de git.\n",
    "\n",
    "* Sustituya ```<NOMBRE> ``` por su nombre.\n",
    "* Sustituya ```<EMAIL> ``` por su correo electrónico."
   ]
  },
  {
   "cell_type": "code",
   "execution_count": null,
   "metadata": {},
   "outputs": [],
   "source": [
    "git config --global user.name \"Jose Luis Chiquete\"\n",
    "git config --global user.name \"<josech@gmail.com>\""
   ]
  },
  {
   "cell_type": "markdown",
   "metadata": {},
   "source": [
    "## Inicialización del repositorio local."
   ]
  },
  {
   "cell_type": "markdown",
   "metadata": {},
   "source": [
    "El directorio [src](src) contiene el código de la aplicación que se utilizará."
   ]
  },
  {
   "cell_type": "code",
   "execution_count": null,
   "metadata": {},
   "outputs": [],
   "source": [
    "cd src"
   ]
  },
  {
   "cell_type": "code",
   "execution_count": null,
   "metadata": {},
   "outputs": [],
   "source": [
    "git init"
   ]
  },
  {
   "cell_type": "markdown",
   "metadata": {},
   "source": [
    "## Asignación del repositorio Git de Azure."
   ]
  },
  {
   "cell_type": "markdown",
   "metadata": {},
   "source": [
    "El repostorio remoto corresponde a ```apliflask.scm.azurewebsites.net/apliflask.git```, tal como se indicó en una celda previa.\n",
    "\n",
    "En este caso el nombre del repositorio remoto es ```azure```."
   ]
  },
  {
   "cell_type": "code",
   "execution_count": null,
   "metadata": {},
   "outputs": [],
   "source": [
    "git remote add azure https://prueba-tmp@apliflask.scm.azurewebsites.net/apliflask.git"
   ]
  },
  {
   "cell_type": "code",
   "execution_count": null,
   "metadata": {},
   "outputs": [],
   "source": [
    "git remote -v"
   ]
  },
  {
   "cell_type": "markdown",
   "metadata": {},
   "source": [
    "## Selección de los archivos y directorios del repositorio."
   ]
  },
  {
   "cell_type": "code",
   "execution_count": null,
   "metadata": {},
   "outputs": [],
   "source": [
    "git add --all"
   ]
  },
  {
   "cell_type": "markdown",
   "metadata": {},
   "source": [
    "## Creación del commit."
   ]
  },
  {
   "cell_type": "code",
   "execution_count": null,
   "metadata": {},
   "outputs": [],
   "source": [
    "git commit -m \"prueba2\" --amend --reset-author"
   ]
  },
  {
   "cell_type": "markdown",
   "metadata": {},
   "source": [
    "## Despliegue de la aplicación."
   ]
  },
  {
   "cell_type": "markdown",
   "metadata": {},
   "source": [
    "Desde una terminal acceda al directorio donde se encuentra [src](src) y ejecute:\n",
    "\n",
    "```git push azure master```\n",
    "\n",
    "Se le pedirá la contraseña que se definió previamente para el usuario ```prueba-tmp```, la cual corresponde a ```Pru3b4T3mp```."
   ]
  },
  {
   "cell_type": "markdown",
   "metadata": {},
   "source": [
    "Puede ver la ruta al ejecutar la siguiente celda."
   ]
  },
  {
   "cell_type": "code",
   "execution_count": null,
   "metadata": {},
   "outputs": [],
   "source": [
    "cd src\n",
    "pwd"
   ]
  },
  {
   "cell_type": "markdown",
   "metadata": {},
   "source": [
    "Al enviar el código localizado en *src* al repositorio remotos indicado, los archivos serán enviados y Azure realizará las operaciones necesarias para ejecutar la aplicación.\n",
    "\n",
    "El código enviado al repositorio corresponde a un servidor que cotiene una API REST escuchando en http://apliflask.azurewebsites.net/api/.\n",
    "\n",
    "Para probar las fucionalidades de la API puede acceder a la notebook [02_cliente_api_rest.ipynb](=2_cliente_api_rest.ipynb)."
   ]
  },
  {
   "cell_type": "markdown",
   "metadata": {},
   "source": [
    "<p style=\"text-align: center\"><a rel=\"license\" href=\"http://creativecommons.org/licenses/by/4.0/\"><img alt=\"Licencia Creative Commons\" style=\"border-width:0\" src=\"https://i.creativecommons.org/l/by/4.0/80x15.png\" /></a><br />Esta obra está bajo una <a rel=\"license\" href=\"http://creativecommons.org/licenses/by/4.0/\">Licencia Creative Commons Atribución 4.0 Internacional</a>.</p>\n",
    "<p style=\"text-align: center\">&copy; José Luis Chiquete Valdivieso. 2018.</p>"
   ]
  }
 ],
 "metadata": {
  "kernelspec": {
   "display_name": "Bash",
   "language": "bash",
   "name": "bash"
  },
  "language_info": {
   "codemirror_mode": "shell",
   "file_extension": ".sh",
   "mimetype": "text/x-sh",
   "name": "bash"
  }
 },
 "nbformat": 4,
 "nbformat_minor": 2
}
