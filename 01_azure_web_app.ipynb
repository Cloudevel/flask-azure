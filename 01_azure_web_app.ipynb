{
 "cells": [
  {
   "cell_type": "markdown",
   "metadata": {},
   "source": [
    "[![cloudevel](imagenes/cloudevel-fondo-twitter.png)](https://cloudevel.com)"
   ]
  },
  {
   "cell_type": "markdown",
   "metadata": {},
   "source": [
    "## Instalación de la CLI de Azure."
   ]
  },
  {
   "cell_type": "code",
   "execution_count": null,
   "metadata": {},
   "outputs": [],
   "source": [
    "pip install azure-cli"
   ]
  },
  {
   "cell_type": "code",
   "execution_count": null,
   "metadata": {},
   "outputs": [],
   "source": [
    "az"
   ]
  },
  {
   "cell_type": "markdown",
   "metadata": {},
   "source": [
    "## Acceso a Azure mediante la CLI"
   ]
  },
  {
   "cell_type": "code",
   "execution_count": null,
   "metadata": {},
   "outputs": [],
   "source": [
    "az login"
   ]
  },
  {
   "cell_type": "markdown",
   "metadata": {},
   "source": [
    "## Creación de un usuario para desplegar la aplicación.\n",
    "\n",
    "En este caso se utilizarán:\n",
    "\n",
    "* El nombre de usuario ```prueba-temp```.\n",
    "* La contraseña ```Pru3b4T3mp```.\n",
    "\n",
    "**NOTA:** Azure no permite usar un nombre de usuario que ya esté siendo utilizado, por lo que es necesario cambiar el nombre ```prueba-temp``` en la celda siguiente por cualquier otro."
   ]
  },
  {
   "cell_type": "code",
   "execution_count": null,
   "metadata": {
    "scrolled": true
   },
   "outputs": [],
   "source": [
    "az webapp deployment user set --user-name prueba-temp --password Pru3b4T3mp"
   ]
  },
  {
   "cell_type": "markdown",
   "metadata": {},
   "source": [
    "## Consulta de locaciones geográficas dependiendo del plan."
   ]
  },
  {
   "cell_type": "markdown",
   "metadata": {},
   "source": [
    "### Precios de servicios.\n",
    "\n",
    "En caso de no contar con una cuenta gratuita es conveniente consultar los precios de servicios por locación geográfica.\n",
    "\n",
    "https://azure.microsoft.com/en-us/pricing/details/app-service"
   ]
  },
  {
   "cell_type": "markdown",
   "metadata": {},
   "source": [
    "## Selección de la locación."
   ]
  },
  {
   "cell_type": "markdown",
   "metadata": {},
   "source": [
    "### Para plan de pago."
   ]
  },
  {
   "cell_type": "code",
   "execution_count": null,
   "metadata": {},
   "outputs": [],
   "source": [
    "az appservice list-locations --sku=\"SHARED\""
   ]
  },
  {
   "cell_type": "markdown",
   "metadata": {},
   "source": [
    "### Para plan gratuito."
   ]
  },
  {
   "cell_type": "code",
   "execution_count": null,
   "metadata": {},
   "outputs": [],
   "source": [
    "az appservice list-locations --sku=\"FREE\""
   ]
  },
  {
   "cell_type": "markdown",
   "metadata": {},
   "source": [
    "## Creación del grupo de recursos.\n",
    "\n",
    "En este caso el grupo de recursos se localizará en ```\"Canada Central\"```."
   ]
  },
  {
   "cell_type": "code",
   "execution_count": null,
   "metadata": {},
   "outputs": [],
   "source": [
    "az group create --name misRecursos --location \"Canada Central\" "
   ]
  },
  {
   "cell_type": "markdown",
   "metadata": {},
   "source": [
    "## Selección del plan de servicios."
   ]
  },
  {
   "cell_type": "markdown",
   "metadata": {},
   "source": [
    "### Para plan de pago."
   ]
  },
  {
   "cell_type": "code",
   "execution_count": null,
   "metadata": {},
   "outputs": [],
   "source": [
    "az appservice plan create --name miPlan --resource-group misRecursos --sku SHARED"
   ]
  },
  {
   "cell_type": "markdown",
   "metadata": {},
   "source": [
    "### Para plan gratuito."
   ]
  },
  {
   "cell_type": "code",
   "execution_count": null,
   "metadata": {},
   "outputs": [],
   "source": [
    "az appservice plan create --name miPlan --resource-group misRecursos --sku FREE"
   ]
  },
  {
   "cell_type": "markdown",
   "metadata": {},
   "source": [
    "## Creación de la aplicación.\n",
    "\n",
    "La siguiente celda creará la aplicación en Azure, indicando que la aplicación correrá con Python 3.4 y se accederá a esta mediante git.\n",
    "\n",
    "Una vez ejecutada la siguente celda, Azure indicará la ruta mediante la cual se accederá utilizando git.\n",
    "\n",
    "En este caso se creará una aplicación web con el nombre ```apiflask```. \n",
    "\n",
    "Una vez ejecutada la siguiente celda: \n",
    "\n",
    "* Se creará una aplicación en http://apliflask.azurewebsites.net ligado a la clave ```\"defaultHostName\"```.\n",
    "* Se creará el acceso al repositorio remoto de git en ```https://prueba-temp@apliflask.scm.azurewebsites.net/apliflask.git``` ligado a la clave ```\"deploymentLocalGitUrl\"```. Cabe recordar que el usuario ```prueba-temp``` fue definido en una celda previa de esta notebook.\n",
    "\n",
    "**Nota:** Azure no permite usar nombre que ya estén siendo utilizados  para crear aplicaciones web, por lo que es necesario cambiar el nombre ```apiflask``` en la celda siguiente por cualquier otro."
   ]
  },
  {
   "cell_type": "code",
   "execution_count": null,
   "metadata": {},
   "outputs": [],
   "source": [
    "az webapp create --resource-group misRecursos --plan miPlan --name apliflask --runtime \"python|3.4\" --deployment-local-git"
   ]
  },
  {
   "cell_type": "markdown",
   "metadata": {},
   "source": [
    "## Configuración de Git."
   ]
  },
  {
   "cell_type": "markdown",
   "metadata": {},
   "source": [
    "La siguiente celda se utiliza para indicar los datos básicos del usuario de git.\n",
    "\n",
    "* Sustituya ```<NOMBRE> ``` por su nombre.\n",
    "* Sustituya ```<EMAIL> ``` por su correo electrónico."
   ]
  },
  {
   "cell_type": "code",
   "execution_count": null,
   "metadata": {},
   "outputs": [],
   "source": [
    "git config --global user.name \"<NOMBRE>\"\n",
    "git config --global user.name \"<EMAIL>\""
   ]
  },
  {
   "cell_type": "markdown",
   "metadata": {},
   "source": [
    "## Inicialización del repositorio local."
   ]
  },
  {
   "cell_type": "markdown",
   "metadata": {},
   "source": [
    "El directorio [src](src) contiene el código de la aplicación que se utilizará."
   ]
  },
  {
   "cell_type": "code",
   "execution_count": null,
   "metadata": {},
   "outputs": [],
   "source": [
    "cd src"
   ]
  },
  {
   "cell_type": "code",
   "execution_count": null,
   "metadata": {},
   "outputs": [],
   "source": [
    "git init"
   ]
  },
  {
   "cell_type": "markdown",
   "metadata": {},
   "source": [
    "## Asignación del repositorio Git de Azure."
   ]
  },
  {
   "cell_type": "markdown",
   "metadata": {},
   "source": [
    "El repostorio remoto corresponde a ```apliflask.scm.azurewebsites.net/apliflask.git```, tal como se indicó en una celda previa.\n",
    "\n",
    "En este caso el nombre del repositorio remoto será ```azure```."
   ]
  },
  {
   "cell_type": "code",
   "execution_count": null,
   "metadata": {},
   "outputs": [],
   "source": [
    "git remote add azure https://prueba-temp@apliflask.scm.azurewebsites.net/apliflask.git"
   ]
  },
  {
   "cell_type": "code",
   "execution_count": null,
   "metadata": {},
   "outputs": [],
   "source": [
    "git remote -v"
   ]
  },
  {
   "cell_type": "markdown",
   "metadata": {},
   "source": [
    "## Selección de los archivos y directorios del repositorio."
   ]
  },
  {
   "cell_type": "code",
   "execution_count": null,
   "metadata": {},
   "outputs": [],
   "source": [
    "git add --all"
   ]
  },
  {
   "cell_type": "markdown",
   "metadata": {},
   "source": [
    "## Creación del commit."
   ]
  },
  {
   "cell_type": "code",
   "execution_count": null,
   "metadata": {},
   "outputs": [],
   "source": [
    "git commit -m \"prueba\""
   ]
  },
  {
   "cell_type": "markdown",
   "metadata": {},
   "source": [
    "## Despliegue de la aplicación."
   ]
  },
  {
   "cell_type": "markdown",
   "metadata": {},
   "source": [
    "Desde una terminal acceda al directorio donde se encuentra [src](src) y ejecute:\n",
    "\n",
    "```git push azure master```\n",
    "\n",
    "Se le pedirá la contraseña que se definió previamente para el usuario ```prueba-temp```, la cual corresponde a ```Pru3b4T3mp```."
   ]
  },
  {
   "cell_type": "markdown",
   "metadata": {},
   "source": [
    "Puede ver la ruta al ejecutar la siguiente celda."
   ]
  },
  {
   "cell_type": "code",
   "execution_count": null,
   "metadata": {},
   "outputs": [],
   "source": [
    "pwd"
   ]
  },
  {
   "cell_type": "markdown",
   "metadata": {},
   "source": [
    "Este es un ejemplo de la ejecución desde la terminal de la VM de Cloudevel: \n",
    "\n",
    "```\n",
    "(cloudevel) cd /opt/cloudevel/flask-azure/src/\n",
    "(cloudevel) git push azure master\n",
    "Password for 'https://prueba-temp@apliflask.scm.azurewebsites.net':\n",
    "Counting objects: 10, done.\n",
    "Compressing objects: 100% (9/9), done.\n",
    "Writing objects: 100% (10/10), 5.53 KiB | 0 bytes/s, done.\n",
    "Total 10 (delta 0), reused 0 (delta 0)\n",
    "remote: Updating branch 'master'.\n",
    "remote: Updating submodules.\n",
    "remote: Preparing deployment for commit id 'df5c9be2c8'.\n",
    "remote: Generating deployment script.\n",
    "remote: Generating deployment script for python Web Site\n",
    "remote: Generated deployment script files\n",
    "remote: Running deployment command...\n",
    "remote: Handling python deployment.\n",
    "remote: KuduSync.NET from: 'D:\\home\\site\\repository' to: 'D:\\home\\site\\wwwroot'\n",
    "remote: Deleting file: 'hostingstart.html'\n",
    "remote: Copying file: '.gitignore'\n",
    "remote: Copying file: 'main.py'\n",
    "remote: Copying file: 'ptvs_virtualenv_proxy.py'\n",
    "remote: Copying file: 'requirements.txt'\n",
    "remote: Copying file: 'web.3.4.config'\n",
    "remote: Copying file: 'data\\alumnos.txt'\n",
    "remote: Copying file: 'data\\__init__.py'\n",
    "remote: Detected requirements.txt.  You can skip Python specific steps with a .skipPythonDeployment file.\n",
    "remote: Detecting Python runtime from site configuration\n",
    "remote: Detected python-3.4\n",
    "remote: Creating python-3.4 virtual environment.\n",
    "remote: ........................\n",
    "remote: Pip install requirements.\n",
    "remote: Downloading/unpacking Flask==1.0.2 (from -r requirements.txt (line 1))\n",
    "remote: Downloading/unpacking Jinja2>=2.10 (from Flask==1.0.2->-r requirements.txt (line 1))\n",
    "remote: Downloading/unpacking itsdangerous>=0.24 (from Flask==1.0.2->-r requirements.txt (line 1))\n",
    "remote:   Running setup.py (path:D:\\home\\site\\wwwroot\\env\\build\\itsdangerous\\setup.py) egg_info for package itsdangerous\n",
    "remote:\n",
    "remote:     warning: no previously-included files matching '*' found under directory 'docs\\_build'\n",
    "remote: Downloading/unpacking Werkzeug>=0.14 (from Flask==1.0.2->-r requirements.txt (line 1))\n",
    "remote: Downloading/unpacking click>=5.1 (from Flask==1.0.2->-r requirements.txt (line 1))\n",
    "remote: Downloading/unpacking MarkupSafe>=0.23 (from Jinja2>=2.10->Flask==1.0.2->-r requirements.txt (line1))\n",
    "remote:   Downloading MarkupSafe-1.0.tar.gz\n",
    "remote:   Running setup.py (path:D:\\home\\site\\wwwroot\\env\\build\\MarkupSafe\\setup.py) egg_info for package MarkupSafe\n",
    "remote:\n",
    "remote: Installing collected packages: Flask, Jinja2, itsdangerous, Werkzeug, click, MarkupSafe\n",
    "remote: *** Error compiling 'D:\\\\home\\\\site\\\\wwwroot\\\\env\\\\build\\\\Jinja2\\\\jinja2\\\\asyncfilters.py'...\n",
    "remote:   File \"D:\\home\\site\\wwwroot\\env\\build\\Jinja2\\jinja2\\asyncfilters.py\", line 7\n",
    "remote:     async def auto_to_seq(value):\n",
    "remote:             ^\n",
    "remote: SyntaxError: invalid syntax\n",
    "remote:\n",
    "remote: *** Error compiling 'D:\\\\home\\\\site\\\\wwwroot\\\\env\\\\build\\\\Jinja2\\\\jinja2\\\\asyncsupport.py'...\n",
    "remote:   File \"D:\\home\\site\\wwwroot\\env\\build\\Jinja2\\jinja2\\asyncsupport.py\", line 22\n",
    "remote:     async def concat_async(async_gen):\n",
    "remote:             ^\n",
    "remote: SyntaxError: invalid syntax\n",
    "remote:\n",
    "remote:   Running setup.py install for itsdangerous\n",
    "remote:\n",
    "remote:     warning: no previously-included files matching '*' found under directory 'docs\\_build'\n",
    "remote:   Running setup.py install for MarkupSafe\n",
    "remote:\n",
    "remote:     building 'markupsafe._speedups' extension\n",
    "remote:     ==========================================================================\n",
    "remote:     WARNING: The C extension could not be compiled, speedups are not enabled.\n",
    "remote:     Failure information, if any, is above.\n",
    "remote:     Retrying the build without the C extension now.\n",
    "remote:\n",
    "remote:\n",
    "remote:     ==========================================================================\n",
    "remote:     WARNING: The C extension could not be compiled, speedups are not enabled.\n",
    "remote:     Plain-Python installation succeeded.\n",
    "remote:     ==========================================================================\n",
    "remote: Successfully installed Flask Jinja2 itsdangerous Werkzeug click MarkupSafe\n",
    "remote: Cleaning up...\n",
    "remote: Overwriting web.config with web.3.4.config\n",
    "remote:         1 file(s) copied.\n",
    "remote: Finished successfully.\n",
    "remote: Running post deployment command(s)...\n",
    "remote: Deployment successful.\n",
    "To https://prueba-temp@apliflask.scm.azurewebsites.net/apliflask.git\n",
    " * [new branch]      master -> master\n",
    "(cloudevel)\n",
    "```"
   ]
  },
  {
   "cell_type": "markdown",
   "metadata": {},
   "source": [
    "Al enviar el código localizado en *src* al repositorio remotos indicado, los archivos serán enviados y Azure realizará las operaciones necesarias para ejecutar la aplicación.\n",
    "\n",
    "El código enviado al repositorio corresponde a un servidor que cotiene una API REST escuchando en http://apliflask.azurewebsites.net/api/.\n",
    "\n",
    "Para probar las fucionalidades de la API puede acceder a la notebook [02_cliente_api_rest.ipynb](02_cliente_api_rest.ipynb)."
   ]
  },
  {
   "cell_type": "markdown",
   "metadata": {},
   "source": [
    "<p style=\"text-align: center\"><a rel=\"license\" href=\"http://creativecommons.org/licenses/by/4.0/\"><img alt=\"Licencia Creative Commons\" style=\"border-width:0\" src=\"https://i.creativecommons.org/l/by/4.0/80x15.png\" /></a><br />Esta obra está bajo una <a rel=\"license\" href=\"http://creativecommons.org/licenses/by/4.0/\">Licencia Creative Commons Atribución 4.0 Internacional</a>.</p>\n",
    "<p style=\"text-align: center\">&copy; José Luis Chiquete Valdivieso. 2018.</p>"
   ]
  }
 ],
 "metadata": {
  "kernelspec": {
   "display_name": "Bash",
   "language": "bash",
   "name": "bash"
  },
  "language_info": {
   "codemirror_mode": "shell",
   "file_extension": ".sh",
   "mimetype": "text/x-sh",
   "name": "bash"
  }
 },
 "nbformat": 4,
 "nbformat_minor": 2
}
